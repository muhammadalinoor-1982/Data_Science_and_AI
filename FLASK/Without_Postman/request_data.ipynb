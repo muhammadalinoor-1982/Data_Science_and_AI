{
 "cells": [
  {
   "cell_type": "code",
   "execution_count": null,
   "metadata": {},
   "outputs": [],
   "source": [
    "import requests\n",
    "\n",
    "url = 'http://127.0.0.1:5000/predict'\n",
    "\n",
    "payload = {\n",
    "    'sepal_length':7.1,\n",
    "    'sepal_width':3,\n",
    "    'petal_length':5.9,\n",
    "    'petal_width':2.1\n",
    "}\n",
    "\n",
    "response = requests.post(url, payload)\n",
    "response.json()"
   ]
  }
 ],
 "metadata": {
  "language_info": {
   "name": "python"
  }
 },
 "nbformat": 4,
 "nbformat_minor": 2
}
