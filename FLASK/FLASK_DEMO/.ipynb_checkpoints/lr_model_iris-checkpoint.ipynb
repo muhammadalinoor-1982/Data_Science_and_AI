{
 "cells": [
  {
   "cell_type": "code",
   "execution_count": 21,
   "id": "6ef607e7-4b5d-4de2-bb34-37bc059d849a",
   "metadata": {
    "tags": []
   },
   "outputs": [],
   "source": [
    "import pandas as pd\n",
    "import pickle\n",
    "from sklearn.linear_model import LogisticRegression\n",
    "\n",
    "class LRModel:\n",
    "    def train(self):\n",
    "        df = pd.read_csv('File/iris.csv')\n",
    "        x = df.drop(['Id', 'Species'], axis = 1)\n",
    "        y = df['Species']\n",
    "        LR = LogisticRegression(random_state = 0).fit(x,y)\n",
    "        with open('File/lr_model.pickle', 'wb') as files:\n",
    "            pickle.dump(LR, files)\n",
    "            \n",
    "    def test(self, SL, SW, PL, PW):\n",
    "        with open('File/lr_model.pickle', 'rb') as f:\n",
    "            LR = pickle.load(f)\n",
    "        y_pred = LR.predict([[SL, SW, PL, PW]])\n",
    "        return y_pred[0]"
   ]
  },
  {
   "cell_type": "code",
   "execution_count": null,
   "id": "2b71c024-4f81-46ba-a604-ecbca4ca40fa",
   "metadata": {},
   "outputs": [],
   "source": []
  },
  {
   "cell_type": "code",
   "execution_count": null,
   "id": "c0ac82a0-31ac-43a4-8885-1825eb63a211",
   "metadata": {},
   "outputs": [],
   "source": []
  }
 ],
 "metadata": {
  "kernelspec": {
   "display_name": "Python 3 (ipykernel)",
   "language": "python",
   "name": "python3"
  },
  "language_info": {
   "codemirror_mode": {
    "name": "ipython",
    "version": 3
   },
   "file_extension": ".py",
   "mimetype": "text/x-python",
   "name": "python",
   "nbconvert_exporter": "python",
   "pygments_lexer": "ipython3",
   "version": "3.11.5"
  }
 },
 "nbformat": 4,
 "nbformat_minor": 5
}
