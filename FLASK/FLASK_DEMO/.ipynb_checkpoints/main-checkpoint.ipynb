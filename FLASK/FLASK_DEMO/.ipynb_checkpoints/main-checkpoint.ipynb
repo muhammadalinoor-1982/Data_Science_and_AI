{
 "cells": [
  {
   "cell_type": "code",
   "execution_count": 10,
   "id": "fb5ace26-ebe2-47d2-a0ee-85f04ddcb8d0",
   "metadata": {
    "tags": []
   },
   "outputs": [],
   "source": [
    "from flask import Flask,jsonify,request\n",
    "import os\n",
    "from lr_model_iris import LRModel\n",
    "\n",
    "LRM = LRModel()\n",
    "\n",
    "app = Flask(__name__)\n",
    "\n",
    "@app.route('/predict', methods = ['POST'])\n",
    "\n",
    "def predict_flowers():\n",
    "    \n",
    "    SepalLength = request.form.get('SepalLength') \n",
    "    SepalWidth  = request.form.get('SepalWidth')\n",
    "    PetalLength = request.form.get('PetalLength') \n",
    "    PetalWidth  = request.form.get('PetalWidth')\n",
    "    \n",
    "    if os.path.exists('File/lr_model.pickle'):\n",
    "        y_pred = LRM.test(SepalLength, SepalWidth, PetalLength, PetalWidth)\n",
    "        return jsonify({'result' : y_pred})\n",
    "    else:\n",
    "        LRM.train()\n",
    "        y_pred = test(SepalLength, SepalWidth, PetalLength, PetalWidth)\n",
    "        return jsonify({'result' : y_pred})"
   ]
  },
  {
   "cell_type": "code",
   "execution_count": null,
   "id": "4a6bcc17-58c2-4b1d-988f-26c02987405f",
   "metadata": {},
   "outputs": [],
   "source": []
  }
 ],
 "metadata": {
  "kernelspec": {
   "display_name": "Python 3 (ipykernel)",
   "language": "python",
   "name": "python3"
  },
  "language_info": {
   "codemirror_mode": {
    "name": "ipython",
    "version": 3
   },
   "file_extension": ".py",
   "mimetype": "text/x-python",
   "name": "python",
   "nbconvert_exporter": "python",
   "pygments_lexer": "ipython3",
   "version": "3.11.5"
  }
 },
 "nbformat": 4,
 "nbformat_minor": 5
}
