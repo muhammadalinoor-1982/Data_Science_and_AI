{
 "cells": [
  {
   "cell_type": "code",
   "execution_count": 14,
   "id": "fb5ace26-ebe2-47d2-a0ee-85f04ddcb8d0",
   "metadata": {
    "tags": []
   },
   "outputs": [
    {
     "ename": "ModuleNotFoundError",
     "evalue": "No module named 'lr_model_iris'",
     "output_type": "error",
     "traceback": [
      "\u001b[1;31m---------------------------------------------------------------------------\u001b[0m",
      "\u001b[1;31mModuleNotFoundError\u001b[0m                       Traceback (most recent call last)",
      "Cell \u001b[1;32mIn[14], line 3\u001b[0m\n\u001b[0;32m      1\u001b[0m \u001b[38;5;28;01mfrom\u001b[39;00m \u001b[38;5;21;01mflask\u001b[39;00m \u001b[38;5;28;01mimport\u001b[39;00m Flask,jsonify,request\n\u001b[0;32m      2\u001b[0m \u001b[38;5;28;01mimport\u001b[39;00m \u001b[38;5;21;01mos\u001b[39;00m\n\u001b[1;32m----> 3\u001b[0m \u001b[38;5;28;01mfrom\u001b[39;00m \u001b[38;5;21;01mlr_model_iris\u001b[39;00m \u001b[38;5;28;01mimport\u001b[39;00m LRModel\n\u001b[0;32m      5\u001b[0m LRM \u001b[38;5;241m=\u001b[39m LRModel()\n\u001b[0;32m      7\u001b[0m app \u001b[38;5;241m=\u001b[39m Flask(\u001b[38;5;18m__name__\u001b[39m)\n",
      "\u001b[1;31mModuleNotFoundError\u001b[0m: No module named 'lr_model_iris'"
     ]
    }
   ],
   "source": [
    "from flask import Flask,jsonify,request\n",
    "import os\n",
    "from lr_model_iris import LRModel\n",
    "\n",
    "LRM = LRModel()\n",
    "\n",
    "app = Flask(__name__)\n",
    "\n",
    "@app.route('/predict', methods = ['POST'])\n",
    "\n",
    "def predict_flowers():\n",
    "    \n",
    "    SepalLength = request.form.get('SepalLength') \n",
    "    SepalWidth  = request.form.get('SepalWidth')\n",
    "    PetalLength = request.form.get('PetalLength') \n",
    "    PetalWidth  = request.form.get('PetalWidth')\n",
    "    \n",
    "    if os.path.exists('File/lr_model.pickle'):\n",
    "        y_pred = LRM.test(SepalLength, SepalWidth, PetalLength, PetalWidth)\n",
    "        return jsonify({'result' : y_pred})\n",
    "    else:\n",
    "        LRM.train()\n",
    "        y_pred = test(SepalLength, SepalWidth, PetalLength, PetalWidth)\n",
    "        return jsonify({'result' : y_pred})"
   ]
  },
  {
   "cell_type": "code",
   "execution_count": null,
   "id": "4a6bcc17-58c2-4b1d-988f-26c02987405f",
   "metadata": {},
   "outputs": [],
   "source": []
  }
 ],
 "metadata": {
  "kernelspec": {
   "display_name": "Python 3 (ipykernel)",
   "language": "python",
   "name": "python3"
  },
  "language_info": {
   "codemirror_mode": {
    "name": "ipython",
    "version": 3
   },
   "file_extension": ".py",
   "mimetype": "text/x-python",
   "name": "python",
   "nbconvert_exporter": "python",
   "pygments_lexer": "ipython3",
   "version": "3.11.5"
  }
 },
 "nbformat": 4,
 "nbformat_minor": 5
}
